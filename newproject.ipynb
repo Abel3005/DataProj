{
 "cells": [
  {
   "cell_type": "markdown",
   "metadata": {},
   "source": [
    "# 가제: 청년 정책 정보\n",
    "\n",
    "알아두면 도움이 될 청년 정책 지원 사이트 모음\n",
    "\n",
    "청년포털  \n",
    "https://2030.go.kr/main\n",
    "\n",
    "정부24\n",
    "https://2030.go.kr/main\n",
    "\n",
    "복지로\n",
    "https://2030.go.kr/main\n",
    "\n",
    "주택도시기금\n",
    "https://2030.go.kr/main\n",
    "\n",
    "온통청년\n",
    "https://2030.go.kr/main\n",
    "\n",
    "K=Startup 창업지원포털\n",
    "https://2030.go.kr/main"
   ]
  },
  {
   "cell_type": "markdown",
   "metadata": {},
   "source": [
    ">   - 청년 정책 서비스 배포를 위해서 파이썬 라이브러리 패키지를 따로 구분하기 위해서   \n",
    ">   - virtualenv 라이브러리를 사용하여 가상환경 설정  \n",
    "```\n",
    "python3 -m virtualenv Youth\n",
    "```"
   ]
  },
  {
   "cell_type": "markdown",
   "metadata": {},
   "source": [
    "상상대로는 경기 안산 청년들을 위한 사이트지만 청년정책 알리미 공간에 있는 정책들은 전국 청년들을 위한 정책들이 많이 있다.  \n",
    ">   - 현재 시행되고 있는 것 뿐만이 아니라 과거에 시행되었던 것 역시도 포함한다.\n",
    ">   - 그렇지만 목적이 현재 이용가능한 정책이므로 **모집중**인 것에 초점을 맞춘다."
   ]
  },
  {
   "cell_type": "markdown",
   "metadata": {},
   "source": [
    "이를 위해서 HTML 파싱을 위한 도구인 BeautifulSoup 라이브러리를 이용합니다.\n",
    "> - find/find_all([태그 이름], 속성에 대한 Dictionary)\n",
    "이렇게 가져온 객체를 dictionary 형태로 속성을 가져올 수 있습니다."
   ]
  },
  {
   "cell_type": "code",
   "execution_count": 45,
   "metadata": {},
   "outputs": [
    {
     "data": {
      "text/html": [
       "<div>\n",
       "<style scoped>\n",
       "    .dataframe tbody tr th:only-of-type {\n",
       "        vertical-align: middle;\n",
       "    }\n",
       "\n",
       "    .dataframe tbody tr th {\n",
       "        vertical-align: top;\n",
       "    }\n",
       "\n",
       "    .dataframe thead th {\n",
       "        text-align: right;\n",
       "    }\n",
       "</style>\n",
       "<table border=\"1\" class=\"dataframe\">\n",
       "  <thead>\n",
       "    <tr style=\"text-align: right;\">\n",
       "      <th></th>\n",
       "      <th>title</th>\n",
       "      <th>end</th>\n",
       "      <th>href</th>\n",
       "    </tr>\n",
       "  </thead>\n",
       "  <tbody>\n",
       "    <tr>\n",
       "      <th>0</th>\n",
       "      <td>일자리 채움 청년지원금 사업신청 방법 및 사업소개</td>\n",
       "      <td>마감</td>\n",
       "      <td>https://www.asyouthspace.kr/notice_1/83?page=1</td>\n",
       "    </tr>\n",
       "    <tr>\n",
       "      <th>1</th>\n",
       "      <td>여성청소년 생리대 바우처 지원</td>\n",
       "      <td>마감</td>\n",
       "      <td>https://www.asyouthspace.kr/notice_1/82?page=1</td>\n",
       "    </tr>\n",
       "    <tr>\n",
       "      <th>2</th>\n",
       "      <td>경기도 청년정책 홍보자료 E북</td>\n",
       "      <td>마감</td>\n",
       "      <td>https://www.asyouthspace.kr/notice_1/81?page=1</td>\n",
       "    </tr>\n",
       "    <tr>\n",
       "      <th>3</th>\n",
       "      <td>경기 2024년 상반기 대학생 학자금 대출이자 지원</td>\n",
       "      <td>마감</td>\n",
       "      <td>https://www.asyouthspace.kr/notice_1/79?page=1</td>\n",
       "    </tr>\n",
       "    <tr>\n",
       "      <th>4</th>\n",
       "      <td>청년 국가기술자격시험 응시료 지원</td>\n",
       "      <td>마감</td>\n",
       "      <td>https://www.asyouthspace.kr/notice_1/78?page=1</td>\n",
       "    </tr>\n",
       "    <tr>\n",
       "      <th>...</th>\n",
       "      <td>...</td>\n",
       "      <td>...</td>\n",
       "      <td>...</td>\n",
       "    </tr>\n",
       "    <tr>\n",
       "      <th>68</th>\n",
       "      <td>청년정책 알리미 4편 _ 경기도 청소년 교통비 지원 사업</td>\n",
       "      <td>마감</td>\n",
       "      <td>https://www.asyouthspace.kr/notice_1/9?page=6</td>\n",
       "    </tr>\n",
       "    <tr>\n",
       "      <th>69</th>\n",
       "      <td>청년정책 알리미 3편 _ 안산시 대학생 본인부담 등록금 반값 지원</td>\n",
       "      <td>마감</td>\n",
       "      <td>https://www.asyouthspace.kr/notice_1/8?page=6</td>\n",
       "    </tr>\n",
       "    <tr>\n",
       "      <th>70</th>\n",
       "      <td>청년정책 알리미 2편 _ 경기도 청년면접수당</td>\n",
       "      <td>마감</td>\n",
       "      <td>https://www.asyouthspace.kr/notice_1/7?page=6</td>\n",
       "    </tr>\n",
       "    <tr>\n",
       "      <th>71</th>\n",
       "      <td>청년정책알리미1편_청년취업홈런옷장</td>\n",
       "      <td>마감</td>\n",
       "      <td>https://www.asyouthspace.kr/notice_1/6?page=6</td>\n",
       "    </tr>\n",
       "    <tr>\n",
       "      <th>72</th>\n",
       "      <td>『경기청년포털』 검색하고 공유하고 #커피 #치킨 받자!</td>\n",
       "      <td>마감</td>\n",
       "      <td>https://www.asyouthspace.kr/notice_1/5?page=7</td>\n",
       "    </tr>\n",
       "  </tbody>\n",
       "</table>\n",
       "<p>73 rows × 3 columns</p>\n",
       "</div>"
      ],
      "text/plain": [
       "                                   title end  \\\n",
       "0            일자리 채움 청년지원금 사업신청 방법 및 사업소개  마감   \n",
       "1                       여성청소년 생리대 바우처 지원  마감   \n",
       "2                       경기도 청년정책 홍보자료 E북  마감   \n",
       "3           경기 2024년 상반기 대학생 학자금 대출이자 지원  마감   \n",
       "4                     청년 국가기술자격시험 응시료 지원  마감   \n",
       "..                                   ...  ..   \n",
       "68       청년정책 알리미 4편 _ 경기도 청소년 교통비 지원 사업  마감   \n",
       "69  청년정책 알리미 3편 _ 안산시 대학생 본인부담 등록금 반값 지원  마감   \n",
       "70              청년정책 알리미 2편 _ 경기도 청년면접수당  마감   \n",
       "71                    청년정책알리미1편_청년취업홈런옷장  마감   \n",
       "72        『경기청년포털』 검색하고 공유하고 #커피 #치킨 받자!  마감   \n",
       "\n",
       "                                              href  \n",
       "0   https://www.asyouthspace.kr/notice_1/83?page=1  \n",
       "1   https://www.asyouthspace.kr/notice_1/82?page=1  \n",
       "2   https://www.asyouthspace.kr/notice_1/81?page=1  \n",
       "3   https://www.asyouthspace.kr/notice_1/79?page=1  \n",
       "4   https://www.asyouthspace.kr/notice_1/78?page=1  \n",
       "..                                             ...  \n",
       "68   https://www.asyouthspace.kr/notice_1/9?page=6  \n",
       "69   https://www.asyouthspace.kr/notice_1/8?page=6  \n",
       "70   https://www.asyouthspace.kr/notice_1/7?page=6  \n",
       "71   https://www.asyouthspace.kr/notice_1/6?page=6  \n",
       "72   https://www.asyouthspace.kr/notice_1/5?page=7  \n",
       "\n",
       "[73 rows x 3 columns]"
      ]
     },
     "metadata": {},
     "output_type": "display_data"
    }
   ],
   "source": [
    "# 상상대로 청년 알리미\n",
    "import requests\n",
    "from bs4 import BeautifulSoup \n",
    "import pandas as pd\n",
    "\n",
    "univ_url = \"https://www.asyouthspace.kr/notice_1?page={}\"\n",
    "df_list = []\n",
    "\n",
    "for pg in range(1,10):\n",
    "    r= requests.get(univ_url.format(pg))\n",
    "    bs = BeautifulSoup(r.text)\n",
    "    _list = bs.find('div',{\"class\":\"program_content_wrap\"}).find_all('a')\n",
    "    for i in _list:\n",
    "        _dict = {'title':i.find('p',{'class':\"program_tit\"}).text.strip(),'end':i.find('li', {\"class\":'end'}).text, 'href':i['href'],}\n",
    "        df_list.append(_dict)\n",
    "\n",
    "df = pd.DataFrame(df_list)\n",
    "display(df)\n"
   ]
  },
  {
   "cell_type": "code",
   "execution_count": 46,
   "metadata": {},
   "outputs": [
    {
     "data": {
      "text/html": [
       "<div>\n",
       "<style scoped>\n",
       "    .dataframe tbody tr th:only-of-type {\n",
       "        vertical-align: middle;\n",
       "    }\n",
       "\n",
       "    .dataframe tbody tr th {\n",
       "        vertical-align: top;\n",
       "    }\n",
       "\n",
       "    .dataframe thead th {\n",
       "        text-align: right;\n",
       "    }\n",
       "</style>\n",
       "<table border=\"1\" class=\"dataframe\">\n",
       "  <thead>\n",
       "    <tr style=\"text-align: right;\">\n",
       "      <th></th>\n",
       "      <th>count</th>\n",
       "    </tr>\n",
       "    <tr>\n",
       "      <th>end</th>\n",
       "      <th></th>\n",
       "    </tr>\n",
       "  </thead>\n",
       "  <tbody>\n",
       "    <tr>\n",
       "      <th>마감</th>\n",
       "      <td>73</td>\n",
       "    </tr>\n",
       "  </tbody>\n",
       "</table>\n",
       "</div>"
      ],
      "text/plain": [
       "     count\n",
       "end       \n",
       "마감      73"
      ]
     },
     "execution_count": 46,
     "metadata": {},
     "output_type": "execute_result"
    }
   ],
   "source": [
    "pd.DataFrame(df['end'].value_counts())"
   ]
  },
  {
   "cell_type": "markdown",
   "metadata": {},
   "source": [
    "**상상대로 청년 알리미**는 현재 공고문이 73개가 있었지만 진행상태가 모두 **'마감'** 이어서 효용성이 없다고 판단했습니다.\n"
   ]
  },
  {
   "cell_type": "markdown",
   "metadata": {},
   "source": [
    "## 청년 포털\n",
    "\n",
    "청년 포털에서는\n",
    ">   1. 광역 청년 플랫폼\n",
    ">   2. 청년 희망 On\n",
    "\n",
    "으로 청년들을 위한 정보를 제공합니다.\n",
    "\n",
    "**광역 청년 플랫폼**에서는 각 지방마다 청년 정책을 따로 볼 수 있도록 서비스를 제공합니다.\n",
    "> -  광역 청년 플랫폼에서 각 지역별로 각 정책을 소개하는 URL을 연결해 줍니다.\n"
   ]
  },
  {
   "cell_type": "code",
   "execution_count": 1,
   "metadata": {},
   "outputs": [
    {
     "data": {
      "text/html": [
       "<div>\n",
       "<style scoped>\n",
       "    .dataframe tbody tr th:only-of-type {\n",
       "        vertical-align: middle;\n",
       "    }\n",
       "\n",
       "    .dataframe tbody tr th {\n",
       "        vertical-align: top;\n",
       "    }\n",
       "\n",
       "    .dataframe thead th {\n",
       "        text-align: right;\n",
       "    }\n",
       "</style>\n",
       "<table border=\"1\" class=\"dataframe\">\n",
       "  <thead>\n",
       "    <tr style=\"text-align: right;\">\n",
       "      <th></th>\n",
       "      <th>지역</th>\n",
       "      <th>기관</th>\n",
       "      <th>link</th>\n",
       "    </tr>\n",
       "  </thead>\n",
       "  <tbody>\n",
       "    <tr>\n",
       "      <th>0</th>\n",
       "      <td>서울</td>\n",
       "      <td>청년몽땅정보통</td>\n",
       "      <td>https://youth.seoul.go.kr</td>\n",
       "    </tr>\n",
       "    <tr>\n",
       "      <th>1</th>\n",
       "      <td>인천</td>\n",
       "      <td>인천청년포털</td>\n",
       "      <td>https://www.incheon.go.kr/youth</td>\n",
       "    </tr>\n",
       "    <tr>\n",
       "      <th>2</th>\n",
       "      <td>경기</td>\n",
       "      <td>경기청년포털</td>\n",
       "      <td>https://youth.gg.go.kr</td>\n",
       "    </tr>\n",
       "    <tr>\n",
       "      <th>3</th>\n",
       "      <td>충북</td>\n",
       "      <td>충북청년포털</td>\n",
       "      <td>https://www.chungbuk.go.kr/young/index.do</td>\n",
       "    </tr>\n",
       "    <tr>\n",
       "      <th>4</th>\n",
       "      <td>세종</td>\n",
       "      <td>세종청년플랫폼</td>\n",
       "      <td>http://sjnarae.or.kr</td>\n",
       "    </tr>\n",
       "    <tr>\n",
       "      <th>5</th>\n",
       "      <td>대전</td>\n",
       "      <td>대전청년포털</td>\n",
       "      <td>https://www.daejeonyouthportal.kr</td>\n",
       "    </tr>\n",
       "    <tr>\n",
       "      <th>6</th>\n",
       "      <td>전북</td>\n",
       "      <td>전북청년허브센터</td>\n",
       "      <td>https://www.jb2030.or.kr</td>\n",
       "    </tr>\n",
       "    <tr>\n",
       "      <th>7</th>\n",
       "      <td>대구</td>\n",
       "      <td>대구청년커뮤니티포털</td>\n",
       "      <td>https://www.dgjump.com</td>\n",
       "    </tr>\n",
       "    <tr>\n",
       "      <th>8</th>\n",
       "      <td>광주</td>\n",
       "      <td>광주청년센터</td>\n",
       "      <td>https://www.gjyouthcenter.kr</td>\n",
       "    </tr>\n",
       "    <tr>\n",
       "      <th>9</th>\n",
       "      <td>경남</td>\n",
       "      <td>경남청년정보플랫폼</td>\n",
       "      <td>https://www.gyeongnam.go.kr/youth</td>\n",
       "    </tr>\n",
       "    <tr>\n",
       "      <th>10</th>\n",
       "      <td>울산</td>\n",
       "      <td>울산청년정책플랫폼</td>\n",
       "      <td>https://www.ulsan.go.kr/s/ulsanyouth/main.ulsan</td>\n",
       "    </tr>\n",
       "    <tr>\n",
       "      <th>11</th>\n",
       "      <td>부산</td>\n",
       "      <td>부산청년플랫폼</td>\n",
       "      <td>https://www.busan.go.kr/young/index</td>\n",
       "    </tr>\n",
       "    <tr>\n",
       "      <th>12</th>\n",
       "      <td>전남</td>\n",
       "      <td>전남오감만족청년정책</td>\n",
       "      <td>https://brand.jeonnam.go.kr</td>\n",
       "    </tr>\n",
       "    <tr>\n",
       "      <th>13</th>\n",
       "      <td>제주</td>\n",
       "      <td>제주청년센터</td>\n",
       "      <td>https://jejuyouth.com/index.php</td>\n",
       "    </tr>\n",
       "    <tr>\n",
       "      <th>14</th>\n",
       "      <td>충남</td>\n",
       "      <td>다이나믹충남청년</td>\n",
       "      <td>https://youth.chungnam.go.kr/</td>\n",
       "    </tr>\n",
       "    <tr>\n",
       "      <th>15</th>\n",
       "      <td>경북</td>\n",
       "      <td>청년e끌림</td>\n",
       "      <td>https://gbyouth.co.kr/</td>\n",
       "    </tr>\n",
       "    <tr>\n",
       "      <th>16</th>\n",
       "      <td>강원</td>\n",
       "      <td>강원청년포털</td>\n",
       "      <td>https://job.gwd.go.kr/youth</td>\n",
       "    </tr>\n",
       "  </tbody>\n",
       "</table>\n",
       "</div>"
      ],
      "text/plain": [
       "    지역          기관                                             link\n",
       "0   서울     청년몽땅정보통                        https://youth.seoul.go.kr\n",
       "1   인천      인천청년포털                  https://www.incheon.go.kr/youth\n",
       "2   경기      경기청년포털                           https://youth.gg.go.kr\n",
       "3   충북      충북청년포털        https://www.chungbuk.go.kr/young/index.do\n",
       "4   세종     세종청년플랫폼                             http://sjnarae.or.kr\n",
       "5   대전      대전청년포털                https://www.daejeonyouthportal.kr\n",
       "6   전북    전북청년허브센터                         https://www.jb2030.or.kr\n",
       "7   대구  대구청년커뮤니티포털                           https://www.dgjump.com\n",
       "8   광주      광주청년센터                     https://www.gjyouthcenter.kr\n",
       "9   경남   경남청년정보플랫폼                https://www.gyeongnam.go.kr/youth\n",
       "10  울산   울산청년정책플랫폼  https://www.ulsan.go.kr/s/ulsanyouth/main.ulsan\n",
       "11  부산     부산청년플랫폼              https://www.busan.go.kr/young/index\n",
       "12  전남  전남오감만족청년정책                      https://brand.jeonnam.go.kr\n",
       "13  제주      제주청년센터                  https://jejuyouth.com/index.php\n",
       "14  충남    다이나믹충남청년                    https://youth.chungnam.go.kr/\n",
       "15  경북       청년e끌림                           https://gbyouth.co.kr/\n",
       "16  강원      강원청년포털                      https://job.gwd.go.kr/youth"
      ]
     },
     "execution_count": 1,
     "metadata": {},
     "output_type": "execute_result"
    }
   ],
   "source": [
    "import requests\n",
    "from bs4 import BeautifulSoup\n",
    "import pandas as pd\n",
    "\n",
    "hole_youth_url = \"https://2030.go.kr/etc/ythPlatform\"\n",
    "bs = BeautifulSoup(requests.get(hole_youth_url).text)\n",
    "all_platform_list = []\n",
    "for i in bs.find('div',{\"class\":\"map-areatwo\"}).find('ul').find_all('li'):\n",
    "    all_platform_list.append({'지역':i.find_all('img')[0]['alt'],'기관':i.find_all('img')[1]['alt'], 'link':i.find('a')['href']})\n",
    "\n",
    "pd.DataFrame(all_platform_list)"
   ]
  },
  {
   "cell_type": "markdown",
   "metadata": {},
   "source": [
    "16개의 지역 모두 조사하기 보다 청년들의 인구 분포가 많은 지역으로 조사하고자 합니다.\n",
    "\n",
    "시군구/성/연령별 데이터를 참고로 청년분포를 본다면,\n",
    "\n",
    ">   출처: KOSIS 문서 작성(갱신)날짜 2024-01-08 "
   ]
  },
  {
   "cell_type": "markdown",
   "metadata": {},
   "source": [
    "> - 원하는 대로 데이터를 수집하고 집계하기 위해서는 Pandas의 문법과 기능을 잘알고 있어야 하고,  \n",
    "> - 거기에 더해서 특별한 의미를 담고있는  **정규식**을 안다면 손쉽게 데이터를 다룰 수 있습니다."
   ]
  },
  {
   "cell_type": "code",
   "execution_count": 4,
   "metadata": {},
   "outputs": [
    {
     "data": {
      "text/plain": [
       "'/home/david/.cache/matplotlib'"
      ]
     },
     "metadata": {},
     "output_type": "display_data"
    }
   ],
   "source": [
    "import matplotlib\n",
    "from matplotlib import rc, rcParams\n",
    "display(matplotlib.get_cachedir())\n",
    "rc('font',family='NanumGothic')\n",
    "rcParams"
   ]
  },
  {
   "cell_type": "code",
   "execution_count": 44,
   "metadata": {},
   "outputs": [
    {
     "data": {
      "text/plain": [
       "array(['전국', '서울특별시', '부산광역시', '대구광역시', '인천광역시', '광주광역시', '대전광역시',\n",
       "       '울산광역시', '세종특별자치시', '경기도', '강원도', '충청북도', '충청남도', '전라북도', '전라남도',\n",
       "       '경상북도', '경상남도', '제주특별자치도'], dtype=object)"
      ]
     },
     "metadata": {},
     "output_type": "display_data"
    },
    {
     "data": {
      "text/plain": [
       "array([20507268.])"
      ]
     },
     "metadata": {},
     "output_type": "display_data"
    },
    {
     "data": {
      "text/plain": [
       "Text(0.5, 1.0, '전국 청년(20-35세) 총 인구수 비교')"
      ]
     },
     "execution_count": 44,
     "metadata": {},
     "output_type": "execute_result"
    },
    {
     "data": {
      "image/png": "[encoded data removed]",
      "text/plain": [
       "<Figure size 2000x1000 with 1 Axes>"
      ]
     },
     "metadata": {},
     "output_type": "display_data"
    }
   ],
   "source": [
    "import glob\n",
    "import re\n",
    "import matplotlib.pyplot as plt\n",
    "p = re.compile('([0-9]+)')\n",
    "csv_file = glob.glob('./Data/*.csv')[0]\n",
    "pop_df = pd.read_csv(csv_file).melt(id_vars=['시점','행정구역(시군구)별','성별','계'])\n",
    "pop_df['variable']= pop_df['variable'].str.extract(p)\n",
    "pop_df['variable'] = pop_df['variable'].apply(lambda x: int(x))\n",
    "display(pop_df['행정구역(시군구)별'].unique())\n",
    "_pop_df= pop_df[(pop_df.variable > 19)& (pop_df.variable < 36)].groupby(by=['행정구역(시군구)별'], as_index=False)[['value']].sum()\n",
    "display(_pop_df[_pop_df['행정구역(시군구)별'] == '전국']['value'].values)\n",
    "plt.figure(figsize=(20,10))\n",
    "plt.plot(_pop_df[~(_pop_df['행정구역(시군구)별'] == '전국')]['행정구역(시군구)별'].values, _pop_df[~(_pop_df['행정구역(시군구)별'] == '전국')]['value'])\n",
    "plt.title('전국 청년(20-35세) 총 인구수 비교')"
   ]
  },
  {
   "cell_type": "markdown",
   "metadata": {},
   "source": [
    "경기도와 서울에 있는 청년비율이 많음을 볼 수 있습니다.  \n",
    "\n",
    "순서 상으로는 1)경기도, 2)서울입니다. \n"
   ]
  },
  {
   "cell_type": "markdown",
   "metadata": {},
   "source": [
    "**경기 청년 포털**\n",
    "https://youth.gg.go.kr\n",
    "\n",
    "**서울 몽땅 정보통**\n",
    "https://youth.seoul.go.kr"
   ]
  },
  {
   "cell_type": "markdown",
   "metadata": {},
   "source": [
    "경기 청년 포털에서는   \n",
    "**1)경기도 시군 정책**과 **2)중앙 정부 정책**을 분리해서 정보를 제공하고 있습니다."
   ]
  },
  {
   "cell_type": "code",
   "execution_count": 156,
   "metadata": {},
   "outputs": [],
   "source": [
    "import requests\n",
    "from bs4 import BeautifulSoup\n",
    "import pandas as pd\n",
    "Gyonggi_url = 'https://youth.gg.go.kr/gg/info/archive-policy-search-map.do'\n",
    "head = {'User-Agent':'Mozilla/5.0 (Windows NT 10.0; Win64; x64) AppleWebKit/537.36 (KHTML, like Gecko) Chrome/124.0.0.0 Safari/537.36'}\n",
    "\n",
    "_offset = 0\n",
    "gyonggi_df = pd.DataFrame()\n",
    "while True:\n",
    "    Gyonggi_list = []\n",
    "    get_Gyonggi = BeautifulSoup(requests.get(Gyonggi_url+f'?pager.offset={_offset}',headers=head).text).find('ul',{'class':'maplist_box clearfix'}).find_all('li')\n",
    "    for i in get_Gyonggi:\n",
    "        _dict = {'title':i.find('a')['title'], 'link': Gyonggi_url + i.find('a')['href'].replace('amp','')}\n",
    "        Gyonggi_list.append(_dict)\n",
    "    if len(Gyonggi_list) < 8:\n",
    "        break\n",
    "    gyonggi_df = pd.concat([gyonggi_df,pd.DataFrame(Gyonggi_list)])\n",
    "    _offset += 8 \n",
    "    \n",
    "gyonggi_df['title'] = gyonggi_df['title'].str.replace('상세정보 보기','')\n",
    "#i.find('a')['href'].replace('amp;','')\n",
    "\n",
    "#?mode=view&arcNo=4546&pager.offset=0&pagerLimit=8"
   ]
  },
  {
   "cell_type": "code",
   "execution_count": 174,
   "metadata": {},
   "outputs": [],
   "source": [
    "with open ('./Data/경기 청년 정책 현황.csv','w') as f:\n",
    "    gyonggi_df.to_csv(f)"
   ]
  },
  {
   "cell_type": "markdown",
   "metadata": {},
   "source": [
    "수원에 살고 금융 관련해서 정보를 얻고자 관련한 공고가 몇 개 있는지 확인해 보고자 합니다."
   ]
  },
  {
   "cell_type": "code",
   "execution_count": 185,
   "metadata": {},
   "outputs": [
    {
     "data": {
      "text/plain": [
       "0"
      ]
     },
     "execution_count": 185,
     "metadata": {},
     "output_type": "execute_result"
    }
   ],
   "source": [
    "len(gyonggi_df[(gyonggi_df['title'].str.find('수원') != -1 ) & (gyonggi_df['title'].str.find('금융') != -1)])"
   ]
  },
  {
   "cell_type": "markdown",
   "metadata": {},
   "source": [
    "정보가 하나도 없어서 금융에 관련한 데이터만 다시 출력해보니,"
   ]
  },
  {
   "cell_type": "code",
   "execution_count": 3,
   "metadata": {},
   "outputs": [
    {
     "data": {
      "text/html": [
       "<div>\n",
       "<style scoped>\n",
       "    .dataframe tbody tr th:only-of-type {\n",
       "        vertical-align: middle;\n",
       "    }\n",
       "\n",
       "    .dataframe tbody tr th {\n",
       "        vertical-align: top;\n",
       "    }\n",
       "\n",
       "    .dataframe thead th {\n",
       "        text-align: right;\n",
       "    }\n",
       "</style>\n",
       "<table border=\"1\" class=\"dataframe\">\n",
       "  <thead>\n",
       "    <tr style=\"text-align: right;\">\n",
       "      <th></th>\n",
       "      <th>title</th>\n",
       "      <th>link</th>\n",
       "    </tr>\n",
       "  </thead>\n",
       "  <tbody>\n",
       "    <tr>\n",
       "      <th>0</th>\n",
       "      <td>경기도 1인가구 금융안전교육</td>\n",
       "      <td>https://youth.gg.go.kr/gg/info/archive-policy-...</td>\n",
       "    </tr>\n",
       "    <tr>\n",
       "      <th>1</th>\n",
       "      <td>2024년 금융권 취업특강 참여자 모집</td>\n",
       "      <td>https://youth.gg.go.kr/gg/info/archive-policy-...</td>\n",
       "    </tr>\n",
       "    <tr>\n",
       "      <th>2</th>\n",
       "      <td>제6기 서민금융 서포터즈 포용프렌즈 모집</td>\n",
       "      <td>https://youth.gg.go.kr/gg/info/archive-policy-...</td>\n",
       "    </tr>\n",
       "    <tr>\n",
       "      <th>3</th>\n",
       "      <td>【4월 청년금토일】 더 나은 미래를 위한 청년들의 선택, 암호화폐와 금융의 만남</td>\n",
       "      <td>https://youth.gg.go.kr/gg/info/archive-policy-...</td>\n",
       "    </tr>\n",
       "    <tr>\n",
       "      <th>4</th>\n",
       "      <td>소비자 맞춤형 금융어드바이저 서비스 사업 안내</td>\n",
       "      <td>https://youth.gg.go.kr/gg/info/archive-policy-...</td>\n",
       "    </tr>\n",
       "    <tr>\n",
       "      <th>5</th>\n",
       "      <td>경기청년 기회사다리금융</td>\n",
       "      <td>https://youth.gg.go.kr/gg/info/archive-policy-...</td>\n",
       "    </tr>\n",
       "    <tr>\n",
       "      <th>6</th>\n",
       "      <td>「슬기로운 금융생활 」 4강) 신용, 대출 사회에서 살아남는 법</td>\n",
       "      <td>https://youth.gg.go.kr/gg/info/archive-policy-...</td>\n",
       "    </tr>\n",
       "    <tr>\n",
       "      <th>7</th>\n",
       "      <td>「슬기로운 금융생활 」 3강) 금융 상품 한 눈에 - 저축&amp;투자&amp;보험</td>\n",
       "      <td>https://youth.gg.go.kr/gg/info/archive-policy-...</td>\n",
       "    </tr>\n",
       "    <tr>\n",
       "      <th>8</th>\n",
       "      <td>「슬기로운 금융생활 」 2강) 내 지갑 워크샵 - 청년 재무계획 &amp; 돈관리</td>\n",
       "      <td>https://youth.gg.go.kr/gg/info/archive-policy-...</td>\n",
       "    </tr>\n",
       "    <tr>\n",
       "      <th>9</th>\n",
       "      <td>두나무 넥스트 스테퍼즈  (2차) 금융지원 참가자 모집</td>\n",
       "      <td>https://youth.gg.go.kr/gg/info/archive-policy-...</td>\n",
       "    </tr>\n",
       "    <tr>\n",
       "      <th>10</th>\n",
       "      <td>[1차] 회계/재무/금융 ★(10.05.목)※온라인강의</td>\n",
       "      <td>https://youth.gg.go.kr/gg/info/archive-policy-...</td>\n",
       "    </tr>\n",
       "    <tr>\n",
       "      <th>11</th>\n",
       "      <td>「슬기로운 금융생활 」 2강) 꼭 알아야 할 전세자금 실전 비책</td>\n",
       "      <td>https://youth.gg.go.kr/gg/info/archive-policy-...</td>\n",
       "    </tr>\n",
       "    <tr>\n",
       "      <th>12</th>\n",
       "      <td>청년금융교육 「슬기로운 금융생활」 참여자 모집</td>\n",
       "      <td>https://youth.gg.go.kr/gg/info/archive-policy-...</td>\n",
       "    </tr>\n",
       "    <tr>\n",
       "      <th>13</th>\n",
       "      <td>「슬기로운 금융생활」 1강) 사회초년생의 목돈 모으는 10가지 방법 참여자 모집 안내</td>\n",
       "      <td>https://youth.gg.go.kr/gg/info/archive-policy-...</td>\n",
       "    </tr>\n",
       "    <tr>\n",
       "      <th>14</th>\n",
       "      <td>[연천군청년센터]9월 금융특강 참여자 모집</td>\n",
       "      <td>https://youth.gg.go.kr/gg/info/archive-policy-...</td>\n",
       "    </tr>\n",
       "    <tr>\n",
       "      <th>15</th>\n",
       "      <td>도시경제학교 -금융편</td>\n",
       "      <td>https://youth.gg.go.kr/gg/info/archive-policy-...</td>\n",
       "    </tr>\n",
       "    <tr>\n",
       "      <th>16</th>\n",
       "      <td>[청년이봄] 7월 금융특강 '미리 준비하는 은퇴 이야기' 참가자 모집</td>\n",
       "      <td>https://youth.gg.go.kr/gg/info/archive-policy-...</td>\n",
       "    </tr>\n",
       "    <tr>\n",
       "      <th>17</th>\n",
       "      <td>사회초년생을 위한 '알짜배기 금융교육' 수강생 모집</td>\n",
       "      <td>https://youth.gg.go.kr/gg/info/archive-policy-...</td>\n",
       "    </tr>\n",
       "    <tr>\n",
       "      <th>18</th>\n",
       "      <td>금융감독원 제11기 FSS 대학생 금융교육 봉사단 모집</td>\n",
       "      <td>https://youth.gg.go.kr/gg/info/archive-policy-...</td>\n",
       "    </tr>\n",
       "    <tr>\n",
       "      <th>19</th>\n",
       "      <td>[상시] 불법사금융피해지원 상담 안내(경기복지재단 불법사금융피해지원팀)</td>\n",
       "      <td>https://youth.gg.go.kr/gg/info/archive-policy-...</td>\n",
       "    </tr>\n",
       "    <tr>\n",
       "      <th>20</th>\n",
       "      <td>[청년이봄] '벌면 뭐하니? - 통장관리 비법' 금융특강 참가자 모집</td>\n",
       "      <td>https://youth.gg.go.kr/gg/info/archive-policy-...</td>\n",
       "    </tr>\n",
       "    <tr>\n",
       "      <th>21</th>\n",
       "      <td>2023년 경기청년 기회사다리금융 수행기관 선정 - 제안서 평가위원(후보자) 공개모집</td>\n",
       "      <td>https://youth.gg.go.kr/gg/info/archive-policy-...</td>\n",
       "    </tr>\n",
       "    <tr>\n",
       "      <th>22</th>\n",
       "      <td>금융감독원 대학생 기자단 제21기</td>\n",
       "      <td>https://youth.gg.go.kr/gg/info/archive-policy-...</td>\n",
       "    </tr>\n",
       "    <tr>\n",
       "      <th>23</th>\n",
       "      <td>청년공간GP1934 재무(금융) 특강 안내</td>\n",
       "      <td>https://youth.gg.go.kr/gg/info/archive-policy-...</td>\n",
       "    </tr>\n",
       "    <tr>\n",
       "      <th>24</th>\n",
       "      <td>[연천군청년센터]6월28일(화) 청년을 위한 금융특강 2차 참여자 모집</td>\n",
       "      <td>https://youth.gg.go.kr/gg/info/archive-policy-...</td>\n",
       "    </tr>\n",
       "    <tr>\n",
       "      <th>25</th>\n",
       "      <td>[연천군청년센터]연천 청년 금융 재테크 특강 안내</td>\n",
       "      <td>https://youth.gg.go.kr/gg/info/archive-policy-...</td>\n",
       "    </tr>\n",
       "    <tr>\n",
       "      <th>26</th>\n",
       "      <td>[금융위원회] 2022년 핀테크 인력양성 ⌜핀테크 인턴십 코스(기획인턴/개발인턴)⌟</td>\n",
       "      <td>https://youth.gg.go.kr/gg/info/archive-policy-...</td>\n",
       "    </tr>\n",
       "    <tr>\n",
       "      <th>27</th>\n",
       "      <td>[의정부시 청년센터 프로그램] 청년금융(주말반)</td>\n",
       "      <td>https://youth.gg.go.kr/gg/info/archive-policy-...</td>\n",
       "    </tr>\n",
       "    <tr>\n",
       "      <th>28</th>\n",
       "      <td>[의정부시 청년센터 프로그램] 청년금융(평일반)</td>\n",
       "      <td>https://youth.gg.go.kr/gg/info/archive-policy-...</td>\n",
       "    </tr>\n",
       "    <tr>\n",
       "      <th>29</th>\n",
       "      <td>삼성생명 대외활동 금융영업전문가과정 17기 모집</td>\n",
       "      <td>https://youth.gg.go.kr/gg/info/archive-policy-...</td>\n",
       "    </tr>\n",
       "    <tr>\n",
       "      <th>30</th>\n",
       "      <td>경기도 서민금융복지센터</td>\n",
       "      <td>https://youth.gg.go.kr/gg/info/archive-policy-...</td>\n",
       "    </tr>\n",
       "    <tr>\n",
       "      <th>31</th>\n",
       "      <td>[금융위원회 사업] 무주택 청년 전월세 지원 확대 사업</td>\n",
       "      <td>https://youth.gg.go.kr/gg/info/archive-policy-...</td>\n",
       "    </tr>\n",
       "    <tr>\n",
       "      <th>32</th>\n",
       "      <td>코로나19 소상공인 2차 금융지원 프로그램</td>\n",
       "      <td>https://youth.gg.go.kr/gg/info/archive-policy-...</td>\n",
       "    </tr>\n",
       "  </tbody>\n",
       "</table>\n",
       "</div>"
      ],
      "text/plain": [
       "                                               title  \\\n",
       "0                                   경기도 1인가구 금융안전교육    \n",
       "1                             2024년 금융권 취업특강 참여자 모집    \n",
       "2                            제6기 서민금융 서포터즈 포용프렌즈 모집    \n",
       "3      【4월 청년금토일】 더 나은 미래를 위한 청년들의 선택, 암호화폐와 금융의 만남    \n",
       "4                         소비자 맞춤형 금융어드바이저 서비스 사업 안내    \n",
       "5                                      경기청년 기회사다리금융    \n",
       "6               「슬기로운 금융생활 」 4강) 신용, 대출 사회에서 살아남는 법    \n",
       "7            「슬기로운 금융생활 」 3강) 금융 상품 한 눈에 - 저축&투자&보험    \n",
       "8         「슬기로운 금융생활 」 2강) 내 지갑 워크샵 - 청년 재무계획 & 돈관리    \n",
       "9                    두나무 넥스트 스테퍼즈  (2차) 금융지원 참가자 모집    \n",
       "10                   [1차] 회계/재무/금융 ★(10.05.목)※온라인강의    \n",
       "11              「슬기로운 금융생활 」 2강) 꼭 알아야 할 전세자금 실전 비책    \n",
       "12                        청년금융교육 「슬기로운 금융생활」 참여자 모집    \n",
       "13  「슬기로운 금융생활」 1강) 사회초년생의 목돈 모으는 10가지 방법 참여자 모집 안내    \n",
       "14                          [연천군청년센터]9월 금융특강 참여자 모집    \n",
       "15                                      도시경제학교 -금융편    \n",
       "16           [청년이봄] 7월 금융특강 '미리 준비하는 은퇴 이야기' 참가자 모집    \n",
       "17                     사회초년생을 위한 '알짜배기 금융교육' 수강생 모집    \n",
       "18                   금융감독원 제11기 FSS 대학생 금융교육 봉사단 모집    \n",
       "19          [상시] 불법사금융피해지원 상담 안내(경기복지재단 불법사금융피해지원팀)    \n",
       "20           [청년이봄] '벌면 뭐하니? - 통장관리 비법' 금융특강 참가자 모집    \n",
       "21  2023년 경기청년 기회사다리금융 수행기관 선정 - 제안서 평가위원(후보자) 공개모집    \n",
       "22                               금융감독원 대학생 기자단 제21기    \n",
       "23                          청년공간GP1934 재무(금융) 특강 안내    \n",
       "24          [연천군청년센터]6월28일(화) 청년을 위한 금융특강 2차 참여자 모집    \n",
       "25                      [연천군청년센터]연천 청년 금융 재테크 특강 안내    \n",
       "26   [금융위원회] 2022년 핀테크 인력양성 ⌜핀테크 인턴십 코스(기획인턴/개발인턴)⌟    \n",
       "27                       [의정부시 청년센터 프로그램] 청년금융(주말반)    \n",
       "28                       [의정부시 청년센터 프로그램] 청년금융(평일반)    \n",
       "29                       삼성생명 대외활동 금융영업전문가과정 17기 모집    \n",
       "30                                     경기도 서민금융복지센터    \n",
       "31                   [금융위원회 사업] 무주택 청년 전월세 지원 확대 사업    \n",
       "32                          코로나19 소상공인 2차 금융지원 프로그램    \n",
       "\n",
       "                                                 link  \n",
       "0   https://youth.gg.go.kr/gg/info/archive-policy-...  \n",
       "1   https://youth.gg.go.kr/gg/info/archive-policy-...  \n",
       "2   https://youth.gg.go.kr/gg/info/archive-policy-...  \n",
       "3   https://youth.gg.go.kr/gg/info/archive-policy-...  \n",
       "4   https://youth.gg.go.kr/gg/info/archive-policy-...  \n",
       "5   https://youth.gg.go.kr/gg/info/archive-policy-...  \n",
       "6   https://youth.gg.go.kr/gg/info/archive-policy-...  \n",
       "7   https://youth.gg.go.kr/gg/info/archive-policy-...  \n",
       "8   https://youth.gg.go.kr/gg/info/archive-policy-...  \n",
       "9   https://youth.gg.go.kr/gg/info/archive-policy-...  \n",
       "10  https://youth.gg.go.kr/gg/info/archive-policy-...  \n",
       "11  https://youth.gg.go.kr/gg/info/archive-policy-...  \n",
       "12  https://youth.gg.go.kr/gg/info/archive-policy-...  \n",
       "13  https://youth.gg.go.kr/gg/info/archive-policy-...  \n",
       "14  https://youth.gg.go.kr/gg/info/archive-policy-...  \n",
       "15  https://youth.gg.go.kr/gg/info/archive-policy-...  \n",
       "16  https://youth.gg.go.kr/gg/info/archive-policy-...  \n",
       "17  https://youth.gg.go.kr/gg/info/archive-policy-...  \n",
       "18  https://youth.gg.go.kr/gg/info/archive-policy-...  \n",
       "19  https://youth.gg.go.kr/gg/info/archive-policy-...  \n",
       "20  https://youth.gg.go.kr/gg/info/archive-policy-...  \n",
       "21  https://youth.gg.go.kr/gg/info/archive-policy-...  \n",
       "22  https://youth.gg.go.kr/gg/info/archive-policy-...  \n",
       "23  https://youth.gg.go.kr/gg/info/archive-policy-...  \n",
       "24  https://youth.gg.go.kr/gg/info/archive-policy-...  \n",
       "25  https://youth.gg.go.kr/gg/info/archive-policy-...  \n",
       "26  https://youth.gg.go.kr/gg/info/archive-policy-...  \n",
       "27  https://youth.gg.go.kr/gg/info/archive-policy-...  \n",
       "28  https://youth.gg.go.kr/gg/info/archive-policy-...  \n",
       "29  https://youth.gg.go.kr/gg/info/archive-policy-...  \n",
       "30  https://youth.gg.go.kr/gg/info/archive-policy-...  \n",
       "31  https://youth.gg.go.kr/gg/info/archive-policy-...  \n",
       "32  https://youth.gg.go.kr/gg/info/archive-policy-...  "
      ]
     },
     "execution_count": 3,
     "metadata": {},
     "output_type": "execute_result"
    }
   ],
   "source": [
    "gyonggi_df[ (gyonggi_df['title'].str.find('금융') != -1)].reset_index().drop(columns=['index','Unnamed: 0'])"
   ]
  },
  {
   "cell_type": "markdown",
   "metadata": {},
   "source": [
    "금융 관련해서 전체적으로 내용이 적고 경기권역 전체적으로 해당되는 내용들이 주를 이룸을 볼 수 있습니다.   \n",
    "여기서 한 가지 가설을 내릴 수 있는데, **금융 관련해서는 특정 지역에만 해당하는 혜택이 많이 없다.**\n",
    "이를 검증하기 위해서 전체 데이터 대비 금융 공고가 몇개 있는 지 확인해보도록 하겠습니다."
   ]
  },
  {
   "cell_type": "code",
   "execution_count": 1,
   "metadata": {},
   "outputs": [
    {
     "data": {
      "image/png": "[encoded data removed]",
      "text/plain": [
       "<Figure size 640x480 with 1 Axes>"
      ]
     },
     "metadata": {},
     "output_type": "display_data"
    },
    {
     "data": {
      "text/plain": [
       "'0.8814102564102564%'"
      ]
     },
     "metadata": {},
     "output_type": "display_data"
    }
   ],
   "source": [
    "import seaborn as sns\n",
    "import matplotlib.pyplot as plt\n",
    "from matplotlib import rc\n",
    "import matplotlib\n",
    "import pandas as pd\n",
    "\n",
    "rc('font',family='NanumGothic')\n",
    "\n",
    "gyonggi_df = pd.read_csv('./Data/경기 청년 정책 현황.csv')\n",
    "plt.pie([len(gyonggi_df[ (gyonggi_df['title'].str.find('금융') != -1)]), len(gyonggi_df)], labels=['금융','전체'])\n",
    "plt.show()\n",
    "display(str(len(gyonggi_df[ (gyonggi_df['title'].str.find('금융') != -1)])/len(gyonggi_df)*100)+'%')"
   ]
  },
  {
   "cell_type": "markdown",
   "metadata": {},
   "source": [
    "0.8%는 보통 통계학자들이 유의 수준으로 설정하는 5%보다 현저히 낮은 값이므로  \n",
    "**경기 데이터**에 한해서 가설에 대한 검증이 이루어졌다라고 봐도 됩니다.\n",
    "\n",
    "데이터 비교를 위해서 먼저 **서울 몽땅 정보통** 데이터를 먼저 살펴 보도록 하겠습니다.\n",
    " \n",
    "https://youth.seoul.go.kr"
   ]
  },
  {
   "cell_type": "markdown",
   "metadata": {},
   "source": []
  },
  {
   "cell_type": "markdown",
   "metadata": {},
   "source": [
    "**청년 희망 On**에서는 기업과 연계하여 청년들이 취업 및 자기계발할 수 있도록 하였습니다."
   ]
  },
  {
   "cell_type": "markdown",
   "metadata": {},
   "source": []
  }
 ],
 "metadata": {
  "kernelspec": {
   "display_name": "Python 3",
   "language": "python",
   "name": "python3"
  },
  "language_info": {
   "codemirror_mode": {
    "name": "ipython",
    "version": 3
   },
   "file_extension": ".py",
   "mimetype": "text/x-python",
   "name": "python",
   "nbconvert_exporter": "python",
   "pygments_lexer": "ipython3",
   "version": "3.10.12"
  }
 },
 "nbformat": 4,
 "nbformat_minor": 2
}
